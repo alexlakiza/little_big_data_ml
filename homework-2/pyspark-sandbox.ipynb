{
 "cells": [
  {
   "cell_type": "code",
   "execution_count": 108,
   "metadata": {
    "collapsed": true
   },
   "outputs": [],
   "source": [
    "from pyspark.sql import SparkSession\n",
    "from pyspark.ml import Pipeline\n",
    "from pyspark.ml.evaluation import RegressionEvaluator\n",
    "from pyspark.ml.feature import OneHotEncoder, StringIndexer, VectorAssembler\n",
    "from pyspark.ml.regression import LinearRegression\n",
    "from pyspark.sql.functions import mean\n",
    "from pyspark.sql.types import IntegerType, FloatType, StringType, StructType, StructField\n",
    "\n",
    "import pandas as pd"
   ]
  },
  {
   "cell_type": "code",
   "execution_count": 35,
   "outputs": [],
   "source": [
    "spark = (\n",
    "    SparkSession\n",
    "    .builder\n",
    "    .appName(\"PySpark Lection 2\")\n",
    "    .master(\"local\")\n",
    "    .getOrCreate()\n",
    ")"
   ],
   "metadata": {
    "collapsed": false
   }
  },
  {
   "cell_type": "code",
   "execution_count": 75,
   "outputs": [],
   "source": [
    "train_df = pd.read_csv('data/train.csv', usecols=['MSSubClass', 'MSZoning', 'LotFrontage', 'LotArea',\n",
    "                                                  'Street', '1stFlrSF', '2ndFlrSF', 'OverallQual', 'SalePrice'])\n",
    "test_df = pd.read_csv('data/test.csv', usecols=['MSSubClass', 'MSZoning', 'LotFrontage', 'LotArea',\n",
    "                                                  'Street', '1stFlrSF', '2ndFlrSF', 'OverallQual'])"
   ],
   "metadata": {
    "collapsed": false
   }
  },
  {
   "cell_type": "code",
   "execution_count": 76,
   "outputs": [
    {
     "data": {
      "text/plain": "      MSSubClass MSZoning  LotFrontage  LotArea Street  OverallQual  1stFlrSF  \\\n0             60       RL         65.0     8450   Pave            7       856   \n1             20       RL         80.0     9600   Pave            6      1262   \n2             60       RL         68.0    11250   Pave            7       920   \n3             70       RL         60.0     9550   Pave            7       961   \n4             60       RL         84.0    14260   Pave            8      1145   \n...          ...      ...          ...      ...    ...          ...       ...   \n1455          60       RL         62.0     7917   Pave            6       953   \n1456          20       RL         85.0    13175   Pave            6      2073   \n1457          70       RL         66.0     9042   Pave            7      1188   \n1458          20       RL         68.0     9717   Pave            5      1078   \n1459          20       RL         75.0     9937   Pave            5      1256   \n\n      2ndFlrSF  SalePrice  \n0          854     208500  \n1            0     181500  \n2          866     223500  \n3          756     140000  \n4         1053     250000  \n...        ...        ...  \n1455       694     175000  \n1456         0     210000  \n1457      1152     266500  \n1458         0     142125  \n1459         0     147500  \n\n[1460 rows x 9 columns]",
      "text/html": "<div>\n<style scoped>\n    .dataframe tbody tr th:only-of-type {\n        vertical-align: middle;\n    }\n\n    .dataframe tbody tr th {\n        vertical-align: top;\n    }\n\n    .dataframe thead th {\n        text-align: right;\n    }\n</style>\n<table border=\"1\" class=\"dataframe\">\n  <thead>\n    <tr style=\"text-align: right;\">\n      <th></th>\n      <th>MSSubClass</th>\n      <th>MSZoning</th>\n      <th>LotFrontage</th>\n      <th>LotArea</th>\n      <th>Street</th>\n      <th>OverallQual</th>\n      <th>1stFlrSF</th>\n      <th>2ndFlrSF</th>\n      <th>SalePrice</th>\n    </tr>\n  </thead>\n  <tbody>\n    <tr>\n      <th>0</th>\n      <td>60</td>\n      <td>RL</td>\n      <td>65.0</td>\n      <td>8450</td>\n      <td>Pave</td>\n      <td>7</td>\n      <td>856</td>\n      <td>854</td>\n      <td>208500</td>\n    </tr>\n    <tr>\n      <th>1</th>\n      <td>20</td>\n      <td>RL</td>\n      <td>80.0</td>\n      <td>9600</td>\n      <td>Pave</td>\n      <td>6</td>\n      <td>1262</td>\n      <td>0</td>\n      <td>181500</td>\n    </tr>\n    <tr>\n      <th>2</th>\n      <td>60</td>\n      <td>RL</td>\n      <td>68.0</td>\n      <td>11250</td>\n      <td>Pave</td>\n      <td>7</td>\n      <td>920</td>\n      <td>866</td>\n      <td>223500</td>\n    </tr>\n    <tr>\n      <th>3</th>\n      <td>70</td>\n      <td>RL</td>\n      <td>60.0</td>\n      <td>9550</td>\n      <td>Pave</td>\n      <td>7</td>\n      <td>961</td>\n      <td>756</td>\n      <td>140000</td>\n    </tr>\n    <tr>\n      <th>4</th>\n      <td>60</td>\n      <td>RL</td>\n      <td>84.0</td>\n      <td>14260</td>\n      <td>Pave</td>\n      <td>8</td>\n      <td>1145</td>\n      <td>1053</td>\n      <td>250000</td>\n    </tr>\n    <tr>\n      <th>...</th>\n      <td>...</td>\n      <td>...</td>\n      <td>...</td>\n      <td>...</td>\n      <td>...</td>\n      <td>...</td>\n      <td>...</td>\n      <td>...</td>\n      <td>...</td>\n    </tr>\n    <tr>\n      <th>1455</th>\n      <td>60</td>\n      <td>RL</td>\n      <td>62.0</td>\n      <td>7917</td>\n      <td>Pave</td>\n      <td>6</td>\n      <td>953</td>\n      <td>694</td>\n      <td>175000</td>\n    </tr>\n    <tr>\n      <th>1456</th>\n      <td>20</td>\n      <td>RL</td>\n      <td>85.0</td>\n      <td>13175</td>\n      <td>Pave</td>\n      <td>6</td>\n      <td>2073</td>\n      <td>0</td>\n      <td>210000</td>\n    </tr>\n    <tr>\n      <th>1457</th>\n      <td>70</td>\n      <td>RL</td>\n      <td>66.0</td>\n      <td>9042</td>\n      <td>Pave</td>\n      <td>7</td>\n      <td>1188</td>\n      <td>1152</td>\n      <td>266500</td>\n    </tr>\n    <tr>\n      <th>1458</th>\n      <td>20</td>\n      <td>RL</td>\n      <td>68.0</td>\n      <td>9717</td>\n      <td>Pave</td>\n      <td>5</td>\n      <td>1078</td>\n      <td>0</td>\n      <td>142125</td>\n    </tr>\n    <tr>\n      <th>1459</th>\n      <td>20</td>\n      <td>RL</td>\n      <td>75.0</td>\n      <td>9937</td>\n      <td>Pave</td>\n      <td>5</td>\n      <td>1256</td>\n      <td>0</td>\n      <td>147500</td>\n    </tr>\n  </tbody>\n</table>\n<p>1460 rows × 9 columns</p>\n</div>"
     },
     "execution_count": 76,
     "metadata": {},
     "output_type": "execute_result"
    }
   ],
   "source": [
    "train_df"
   ],
   "metadata": {
    "collapsed": false
   }
  },
  {
   "cell_type": "code",
   "execution_count": 77,
   "outputs": [],
   "source": [
    "# Somehow it does not work. Throws `Index out of range` error\n",
    "\n",
    "train_schema = StructType(fields=[\n",
    "    StructField(\"MSSubClass\", IntegerType()),\n",
    "    StructField(\"MSZoning\", StructType()),\n",
    "    StructField(\"LotFrontage\", FloatType(), nullable=True),\n",
    "    StructField(\"LotArea\", IntegerType()),\n",
    "    StructField(\"Street\", StringType()),\n",
    "    StructField(\"OverallQual\", IntegerType()),\n",
    "    StructField(\"1stFlrSF\", IntegerType()),\n",
    "    StructField(\"2ndFlrSF\", IntegerType()),\n",
    "    StructField(\"SalePrice\", FloatType())\n",
    "])\n",
    "\n",
    "test_schema = StructType(fields=[\n",
    "    StructField(\"MSSubClass\", IntegerType()),\n",
    "    StructField(\"MSZoning\", StructType()),\n",
    "    StructField(\"LotFrontage\", FloatType(), nullable=True),\n",
    "    StructField(\"LotArea\", IntegerType()),\n",
    "    StructField(\"Street\", StringType()),\n",
    "    StructField(\"OverallQual\", IntegerType()),\n",
    "    StructField(\"1stFlrSF\", IntegerType()),\n",
    "    StructField(\"2ndFlrSF\", IntegerType())\n",
    "])"
   ],
   "metadata": {
    "collapsed": false
   }
  },
  {
   "cell_type": "code",
   "execution_count": 78,
   "outputs": [],
   "source": [
    "train = spark.createDataFrame(train_df)\n",
    "test = spark.createDataFrame(test_df)"
   ],
   "metadata": {
    "collapsed": false
   }
  },
  {
   "cell_type": "markdown",
   "source": [
    "## Показать датафрейм"
   ],
   "metadata": {
    "collapsed": false
   }
  },
  {
   "cell_type": "code",
   "execution_count": 79,
   "outputs": [
    {
     "name": "stdout",
     "output_type": "stream",
     "text": [
      "+----------+--------+-----------+-------+------+-----------+--------+--------+---------+\n",
      "|MSSubClass|MSZoning|LotFrontage|LotArea|Street|OverallQual|1stFlrSF|2ndFlrSF|SalePrice|\n",
      "+----------+--------+-----------+-------+------+-----------+--------+--------+---------+\n",
      "|        60|      RL|       65.0|   8450|  Pave|          7|     856|     854|   208500|\n",
      "|        20|      RL|       80.0|   9600|  Pave|          6|    1262|       0|   181500|\n",
      "|        60|      RL|       68.0|  11250|  Pave|          7|     920|     866|   223500|\n",
      "|        70|      RL|       60.0|   9550|  Pave|          7|     961|     756|   140000|\n",
      "|        60|      RL|       84.0|  14260|  Pave|          8|    1145|    1053|   250000|\n",
      "|        50|      RL|       85.0|  14115|  Pave|          5|     796|     566|   143000|\n",
      "|        20|      RL|       75.0|  10084|  Pave|          8|    1694|       0|   307000|\n",
      "|        60|      RL|        NaN|  10382|  Pave|          7|    1107|     983|   200000|\n",
      "|        50|      RM|       51.0|   6120|  Pave|          7|    1022|     752|   129900|\n",
      "|       190|      RL|       50.0|   7420|  Pave|          5|    1077|       0|   118000|\n",
      "|        20|      RL|       70.0|  11200|  Pave|          5|    1040|       0|   129500|\n",
      "|        60|      RL|       85.0|  11924|  Pave|          9|    1182|    1142|   345000|\n",
      "|        20|      RL|        NaN|  12968|  Pave|          5|     912|       0|   144000|\n",
      "|        20|      RL|       91.0|  10652|  Pave|          7|    1494|       0|   279500|\n",
      "|        20|      RL|        NaN|  10920|  Pave|          6|    1253|       0|   157000|\n",
      "|        45|      RM|       51.0|   6120|  Pave|          7|     854|       0|   132000|\n",
      "|        20|      RL|        NaN|  11241|  Pave|          6|    1004|       0|   149000|\n",
      "|        90|      RL|       72.0|  10791|  Pave|          4|    1296|       0|    90000|\n",
      "|        20|      RL|       66.0|  13695|  Pave|          5|    1114|       0|   159000|\n",
      "|        20|      RL|       70.0|   7560|  Pave|          5|    1339|       0|   139000|\n",
      "+----------+--------+-----------+-------+------+-----------+--------+--------+---------+\n",
      "only showing top 20 rows\n",
      "\n"
     ]
    }
   ],
   "source": [
    "train.show()"
   ],
   "metadata": {
    "collapsed": false
   }
  },
  {
   "cell_type": "markdown",
   "source": [
    "## Заполнить в колонке NaN средним значением"
   ],
   "metadata": {
    "collapsed": false
   }
  },
  {
   "cell_type": "markdown",
   "source": [
    "### Удалить таргет из трейна (1-е преобразование)"
   ],
   "metadata": {
    "collapsed": false
   }
  },
  {
   "cell_type": "code",
   "execution_count": 80,
   "outputs": [],
   "source": [
    "train_without_target = train.drop(\"SalePrice\")"
   ],
   "metadata": {
    "collapsed": false
   }
  },
  {
   "cell_type": "markdown",
   "source": [
    "### Объединить датафреймы (2-е преобразование)"
   ],
   "metadata": {
    "collapsed": false
   }
  },
  {
   "cell_type": "code",
   "execution_count": 81,
   "outputs": [],
   "source": [
    "combined_df = train_without_target.union(test)"
   ],
   "metadata": {
    "collapsed": false
   }
  },
  {
   "cell_type": "markdown",
   "source": [
    "### Получить среднее для колонки (3-е преобразование)"
   ],
   "metadata": {
    "collapsed": false
   }
  },
  {
   "cell_type": "code",
   "execution_count": 82,
   "outputs": [],
   "source": [
    "mean_value = combined_df.dropna().select(mean(combined_df['LotFrontage'])).collect()[0][0]"
   ],
   "metadata": {
    "collapsed": false
   }
  },
  {
   "cell_type": "code",
   "execution_count": 83,
   "outputs": [],
   "source": [
    "train = train.fillna({'LotFrontage': round(mean_value, 1)})\n",
    "test = test.fillna({'LotFrontage': round(mean_value, 1)})"
   ],
   "metadata": {
    "collapsed": false
   }
  },
  {
   "cell_type": "code",
   "execution_count": 84,
   "outputs": [
    {
     "name": "stdout",
     "output_type": "stream",
     "text": [
      "+----------+--------+-----------+-------+------+-----------+--------+--------+---------+\n",
      "|MSSubClass|MSZoning|LotFrontage|LotArea|Street|OverallQual|1stFlrSF|2ndFlrSF|SalePrice|\n",
      "+----------+--------+-----------+-------+------+-----------+--------+--------+---------+\n",
      "|        60|      RL|       65.0|   8450|  Pave|          7|     856|     854|   208500|\n",
      "|        20|      RL|       80.0|   9600|  Pave|          6|    1262|       0|   181500|\n",
      "|        60|      RL|       68.0|  11250|  Pave|          7|     920|     866|   223500|\n",
      "|        70|      RL|       60.0|   9550|  Pave|          7|     961|     756|   140000|\n",
      "|        60|      RL|       84.0|  14260|  Pave|          8|    1145|    1053|   250000|\n",
      "|        50|      RL|       85.0|  14115|  Pave|          5|     796|     566|   143000|\n",
      "|        20|      RL|       75.0|  10084|  Pave|          8|    1694|       0|   307000|\n",
      "|        60|      RL|       69.3|  10382|  Pave|          7|    1107|     983|   200000|\n",
      "|        50|      RM|       51.0|   6120|  Pave|          7|    1022|     752|   129900|\n",
      "|       190|      RL|       50.0|   7420|  Pave|          5|    1077|       0|   118000|\n",
      "|        20|      RL|       70.0|  11200|  Pave|          5|    1040|       0|   129500|\n",
      "|        60|      RL|       85.0|  11924|  Pave|          9|    1182|    1142|   345000|\n",
      "|        20|      RL|       69.3|  12968|  Pave|          5|     912|       0|   144000|\n",
      "|        20|      RL|       91.0|  10652|  Pave|          7|    1494|       0|   279500|\n",
      "|        20|      RL|       69.3|  10920|  Pave|          6|    1253|       0|   157000|\n",
      "|        45|      RM|       51.0|   6120|  Pave|          7|     854|       0|   132000|\n",
      "|        20|      RL|       69.3|  11241|  Pave|          6|    1004|       0|   149000|\n",
      "|        90|      RL|       72.0|  10791|  Pave|          4|    1296|       0|    90000|\n",
      "|        20|      RL|       66.0|  13695|  Pave|          5|    1114|       0|   159000|\n",
      "|        20|      RL|       70.0|   7560|  Pave|          5|    1339|       0|   139000|\n",
      "+----------+--------+-----------+-------+------+-----------+--------+--------+---------+\n",
      "only showing top 20 rows\n",
      "\n"
     ]
    }
   ],
   "source": [
    "train.show()"
   ],
   "metadata": {
    "collapsed": false
   }
  },
  {
   "cell_type": "markdown",
   "source": [
    "## Удалить колонку (4-е преобразование)"
   ],
   "metadata": {
    "collapsed": false
   }
  },
  {
   "cell_type": "code",
   "execution_count": 85,
   "outputs": [],
   "source": [
    "train = train.drop(\"MSZoning\")\n",
    "test = test.drop('MSZoning')"
   ],
   "metadata": {
    "collapsed": false
   }
  },
  {
   "cell_type": "markdown",
   "source": [
    "## Переименуем колонку (5-е преобразование)"
   ],
   "metadata": {
    "collapsed": false
   }
  },
  {
   "cell_type": "code",
   "execution_count": 88,
   "outputs": [],
   "source": [
    "train = train.withColumnRenamed(\"MSSubClass\", \"DwellingClass\")\n",
    "test = test.withColumnRenamed(\"MSSubClass\", \"DwellingClass\")"
   ],
   "metadata": {
    "collapsed": false
   }
  },
  {
   "cell_type": "markdown",
   "source": [
    "## Покажем в train только те дома, у которых `Overall Quality` = 10 (6-е преобразование)"
   ],
   "metadata": {
    "collapsed": false
   }
  },
  {
   "cell_type": "code",
   "execution_count": 91,
   "outputs": [
    {
     "name": "stdout",
     "output_type": "stream",
     "text": [
      "+-------------+-----------+-------+------+-----------+--------+--------+---------+\n",
      "|DwellingClass|LotFrontage|LotArea|Street|OverallQual|1stFlrSF|2ndFlrSF|SalePrice|\n",
      "+-------------+-----------+-------+------+-----------+--------+--------+---------+\n",
      "|           60|       66.0|  13682|  Pave|         10|    1426|    1519|   438780|\n",
      "|           75|       90.0|  22950|  Pave|         10|    1518|    1518|   475000|\n",
      "|           20|      103.0|  13472|  Pave|         10|    2392|       0|   386250|\n",
      "|           60|       96.0|  12474|  Pave|         10|    1742|     590|   426000|\n",
      "|           20|      105.0|  15431|  Pave|         10|    2402|       0|   555000|\n",
      "|           20|       94.0|  12220|  Pave|         10|    2020|       0|   402861|\n",
      "|           60|      130.0|  40094|  Pave|         10|    3138|    1538|   184750|\n",
      "|           75|       75.0|  13500|  Pave|         10|    1521|    1254|   325000|\n",
      "|           60|       97.0|  13478|  Pave|         10|    1728|     568|   451950|\n",
      "|           60|      104.0|  21535|  Pave|         10|    2444|    1872|   755000|\n",
      "|           20|      114.0|  14803|  Pave|         10|    2084|       0|   385000|\n",
      "|           20|       96.0|  12456|  Pave|         10|    1718|       0|   337500|\n",
      "|           60|      118.0|  35760|  Pave|         10|    1831|    1796|   625000|\n",
      "|           60|      160.0|  15623|  Pave|         10|    2411|    2065|   745000|\n",
      "|           20|      107.0|  13891|  Pave|         10|    2076|       0|   465000|\n",
      "|           60|      313.0|  63887|  Pave|         10|    4692|     950|   160000|\n",
      "|           20|       69.3|  11400|  Pave|         10|    2633|       0|   466500|\n",
      "|           60|       85.0|  11003|  Pave|         10|    1026|     981|   310000|\n",
      "+-------------+-----------+-------+------+-----------+--------+--------+---------+\n",
      "\n"
     ]
    }
   ],
   "source": [
    "train.filter(train.OverallQual == 10).show()"
   ],
   "metadata": {
    "collapsed": false
   }
  },
  {
   "cell_type": "markdown",
   "source": [
    "## One-Hot Encoding (7-е и тд преобразование)"
   ],
   "metadata": {
    "collapsed": false
   }
  },
  {
   "cell_type": "code",
   "execution_count": 97,
   "outputs": [],
   "source": [
    "categorical_col = \"Street\"\n",
    "string_indexer = StringIndexer(inputCol=categorical_col, outputCol=\"indexed_\" + categorical_col)\n",
    "encoder = OneHotEncoder(inputCol=\"indexed_\" + categorical_col, outputCol=\"onehot_\" + categorical_col)"
   ],
   "metadata": {
    "collapsed": false
   }
  },
  {
   "cell_type": "code",
   "execution_count": 98,
   "outputs": [],
   "source": [
    "pipeline = Pipeline(stages=[string_indexer, encoder])\n",
    "pipeline_model = pipeline.fit(train)\n",
    "train = pipeline_model.transform(train)"
   ],
   "metadata": {
    "collapsed": false
   }
  },
  {
   "cell_type": "code",
   "execution_count": 99,
   "outputs": [],
   "source": [
    "test = pipeline_model.transform(test)"
   ],
   "metadata": {
    "collapsed": false
   }
  },
  {
   "cell_type": "code",
   "execution_count": 107,
   "outputs": [],
   "source": [
    "train = train.drop(\"Street\", \"indexed_Street\")\n",
    "test = test.drop(\"Street\", \"indexed_Street\")"
   ],
   "metadata": {
    "collapsed": false
   }
  },
  {
   "cell_type": "code",
   "execution_count": 109,
   "outputs": [
    {
     "name": "stdout",
     "output_type": "stream",
     "text": [
      "+-------------+-----------+-------+-----------+--------+--------+---------+-------------+\n",
      "|DwellingClass|LotFrontage|LotArea|OverallQual|1stFlrSF|2ndFlrSF|SalePrice|onehot_Street|\n",
      "+-------------+-----------+-------+-----------+--------+--------+---------+-------------+\n",
      "|           60|       65.0|   8450|          7|     856|     854|   208500|(1,[0],[1.0])|\n",
      "|           20|       80.0|   9600|          6|    1262|       0|   181500|(1,[0],[1.0])|\n",
      "|           60|       68.0|  11250|          7|     920|     866|   223500|(1,[0],[1.0])|\n",
      "|           70|       60.0|   9550|          7|     961|     756|   140000|(1,[0],[1.0])|\n",
      "|           60|       84.0|  14260|          8|    1145|    1053|   250000|(1,[0],[1.0])|\n",
      "|           50|       85.0|  14115|          5|     796|     566|   143000|(1,[0],[1.0])|\n",
      "|           20|       75.0|  10084|          8|    1694|       0|   307000|(1,[0],[1.0])|\n",
      "|           60|       69.3|  10382|          7|    1107|     983|   200000|(1,[0],[1.0])|\n",
      "|           50|       51.0|   6120|          7|    1022|     752|   129900|(1,[0],[1.0])|\n",
      "|          190|       50.0|   7420|          5|    1077|       0|   118000|(1,[0],[1.0])|\n",
      "|           20|       70.0|  11200|          5|    1040|       0|   129500|(1,[0],[1.0])|\n",
      "|           60|       85.0|  11924|          9|    1182|    1142|   345000|(1,[0],[1.0])|\n",
      "|           20|       69.3|  12968|          5|     912|       0|   144000|(1,[0],[1.0])|\n",
      "|           20|       91.0|  10652|          7|    1494|       0|   279500|(1,[0],[1.0])|\n",
      "|           20|       69.3|  10920|          6|    1253|       0|   157000|(1,[0],[1.0])|\n",
      "|           45|       51.0|   6120|          7|     854|       0|   132000|(1,[0],[1.0])|\n",
      "|           20|       69.3|  11241|          6|    1004|       0|   149000|(1,[0],[1.0])|\n",
      "|           90|       72.0|  10791|          4|    1296|       0|    90000|(1,[0],[1.0])|\n",
      "|           20|       66.0|  13695|          5|    1114|       0|   159000|(1,[0],[1.0])|\n",
      "|           20|       70.0|   7560|          5|    1339|       0|   139000|(1,[0],[1.0])|\n",
      "+-------------+-----------+-------+-----------+--------+--------+---------+-------------+\n",
      "only showing top 20 rows\n",
      "\n"
     ]
    }
   ],
   "source": [
    "train.show()"
   ],
   "metadata": {
    "collapsed": false
   }
  },
  {
   "cell_type": "code",
   "execution_count": 110,
   "outputs": [],
   "source": [
    "assembler = VectorAssembler(\n",
    "    inputCols=[\"DwellingClass\", \"LotFrontage\", \"LotArea\", \"OverallQual\", \"1stFlrSF\", \"2ndFlrSF\", \"onehot_Street\"],\n",
    "    outputCol=\"features\")"
   ],
   "metadata": {
    "collapsed": false
   }
  },
  {
   "cell_type": "code",
   "execution_count": 111,
   "outputs": [],
   "source": [
    "train_features = assembler.transform(train)\n",
    "test_features = assembler.transform(test)"
   ],
   "metadata": {
    "collapsed": false
   }
  },
  {
   "cell_type": "code",
   "execution_count": 113,
   "outputs": [
    {
     "name": "stderr",
     "output_type": "stream",
     "text": [
      "24/04/04 00:48:19 WARN Instrumentation: [4f0bd5fc] regParam is zero, which might cause numerical instability and overfitting.\n",
      "24/04/04 00:48:19 WARN InstanceBuilder: Failed to load implementation from:dev.ludovic.netlib.blas.JNIBLAS\n",
      "24/04/04 00:48:19 WARN InstanceBuilder: Failed to load implementation from:dev.ludovic.netlib.lapack.JNILAPACK\n"
     ]
    }
   ],
   "source": [
    "lr = LinearRegression(featuresCol=\"features\", labelCol=\"SalePrice\")\n",
    "lr_model = lr.fit(train_features)"
   ],
   "metadata": {
    "collapsed": false
   }
  },
  {
   "cell_type": "code",
   "execution_count": 114,
   "outputs": [],
   "source": [
    "predictions = lr_model.transform(test_features)"
   ],
   "metadata": {
    "collapsed": false
   }
  },
  {
   "cell_type": "code",
   "execution_count": 122,
   "outputs": [],
   "source": [
    "train_preds = lr_model.transform(train_features)"
   ],
   "metadata": {
    "collapsed": false
   }
  },
  {
   "cell_type": "code",
   "execution_count": 123,
   "outputs": [],
   "source": [
    "# predictions.select(\"features\", \"prediction\").show()"
   ],
   "metadata": {
    "collapsed": false
   }
  },
  {
   "cell_type": "code",
   "execution_count": 124,
   "outputs": [
    {
     "name": "stdout",
     "output_type": "stream",
     "text": [
      "Mean Squared Error (MSE): 1567029928.6011755\n",
      "Root Mean Squared Error (RMSE): 39585.728850195184\n",
      "Mean Absolute Error (MAE): 25983.82098196202\n",
      "R-squared (R²): 0.751532827302727\n"
     ]
    }
   ],
   "source": [
    "# Evaluate predictions using regression evaluator\n",
    "evaluator = RegressionEvaluator(predictionCol=\"prediction\", labelCol=\"SalePrice\", metricName=\"mse\")\n",
    "mse = evaluator.evaluate(train_preds)\n",
    "\n",
    "evaluator = RegressionEvaluator(predictionCol=\"prediction\", labelCol=\"SalePrice\", metricName=\"rmse\")\n",
    "rmse = evaluator.evaluate(train_preds)\n",
    "\n",
    "evaluator = RegressionEvaluator(predictionCol=\"prediction\", labelCol=\"SalePrice\", metricName=\"mae\")\n",
    "mae = evaluator.evaluate(train_preds)\n",
    "\n",
    "evaluator = RegressionEvaluator(predictionCol=\"prediction\", labelCol=\"SalePrice\", metricName=\"r2\")\n",
    "r2 = evaluator.evaluate(train_preds)\n",
    "\n",
    "print(\"Mean Squared Error (MSE):\", mse)\n",
    "print(\"Root Mean Squared Error (RMSE):\", rmse)\n",
    "print(\"Mean Absolute Error (MAE):\", mae)\n",
    "print(\"R-squared (R²):\", r2)"
   ],
   "metadata": {
    "collapsed": false
   }
  },
  {
   "cell_type": "code",
   "execution_count": null,
   "outputs": [],
   "source": [
    "spark.stop()"
   ],
   "metadata": {
    "collapsed": false
   }
  }
 ],
 "metadata": {
  "kernelspec": {
   "display_name": "Python 3",
   "language": "python",
   "name": "python3"
  },
  "language_info": {
   "codemirror_mode": {
    "name": "ipython",
    "version": 2
   },
   "file_extension": ".py",
   "mimetype": "text/x-python",
   "name": "python",
   "nbconvert_exporter": "python",
   "pygments_lexer": "ipython2",
   "version": "2.7.6"
  }
 },
 "nbformat": 4,
 "nbformat_minor": 0
}
